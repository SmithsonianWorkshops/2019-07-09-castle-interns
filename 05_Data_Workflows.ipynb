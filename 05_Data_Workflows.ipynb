{
 "cells": [
  {
   "cell_type": "markdown",
   "metadata": {},
   "source": [
    "# Data Workflows\n",
    "Combining for-loops with Pandas DataFrames"
   ]
  },
  {
   "cell_type": "code",
   "execution_count": 1,
   "metadata": {},
   "outputs": [
    {
     "name": "stdout",
     "output_type": "stream",
     "text": [
      "tiger\n",
      "cheetah\n",
      "elephant\n"
     ]
    }
   ],
   "source": [
    "animals = ['tiger','cheetah','elephant']\n",
    "for animal in animals:\n",
    "    print(animal)"
   ]
  },
  {
   "cell_type": "code",
   "execution_count": 2,
   "metadata": {},
   "outputs": [],
   "source": [
    "import pandas as pd"
   ]
  },
  {
   "cell_type": "code",
   "execution_count": 3,
   "metadata": {},
   "outputs": [
    {
     "name": "stdout",
     "output_type": "stream",
     "text": [
      "<class 'pandas.core.frame.DataFrame'>\n",
      "RangeIndex: 35549 entries, 0 to 35548\n",
      "Data columns (total 9 columns):\n",
      "record_id          35549 non-null int64\n",
      "month              35549 non-null int64\n",
      "day                35549 non-null int64\n",
      "year               35549 non-null int64\n",
      "plot_id            35549 non-null int64\n",
      "species_id         34786 non-null object\n",
      "sex                33038 non-null object\n",
      "hindfoot_length    31438 non-null float64\n",
      "weight             32283 non-null float64\n",
      "dtypes: float64(2), int64(5), object(2)\n",
      "memory usage: 2.4+ MB\n"
     ]
    }
   ],
   "source": [
    "surveys_df = pd.read_csv('https://ndownloader.figshare.com/files/10717177')\n",
    "surveys_df.info()"
   ]
  },
  {
   "cell_type": "code",
   "execution_count": 5,
   "metadata": {},
   "outputs": [
    {
     "data": {
      "text/html": [
       "<div>\n",
       "<style scoped>\n",
       "    .dataframe tbody tr th:only-of-type {\n",
       "        vertical-align: middle;\n",
       "    }\n",
       "\n",
       "    .dataframe tbody tr th {\n",
       "        vertical-align: top;\n",
       "    }\n",
       "\n",
       "    .dataframe thead th {\n",
       "        text-align: right;\n",
       "    }\n",
       "</style>\n",
       "<table border=\"1\" class=\"dataframe\">\n",
       "  <thead>\n",
       "    <tr style=\"text-align: right;\">\n",
       "      <th></th>\n",
       "      <th>record_id</th>\n",
       "      <th>month</th>\n",
       "      <th>day</th>\n",
       "      <th>year</th>\n",
       "      <th>plot_id</th>\n",
       "      <th>species_id</th>\n",
       "      <th>sex</th>\n",
       "      <th>hindfoot_length</th>\n",
       "      <th>weight</th>\n",
       "    </tr>\n",
       "  </thead>\n",
       "  <tbody>\n",
       "    <tr>\n",
       "      <th>15577</th>\n",
       "      <td>15578</td>\n",
       "      <td>2</td>\n",
       "      <td>5</td>\n",
       "      <td>1989</td>\n",
       "      <td>11</td>\n",
       "      <td>PE</td>\n",
       "      <td>F</td>\n",
       "      <td>21.0</td>\n",
       "      <td>21.0</td>\n",
       "    </tr>\n",
       "    <tr>\n",
       "      <th>25355</th>\n",
       "      <td>25356</td>\n",
       "      <td>3</td>\n",
       "      <td>16</td>\n",
       "      <td>1997</td>\n",
       "      <td>4</td>\n",
       "      <td>PF</td>\n",
       "      <td>M</td>\n",
       "      <td>16.0</td>\n",
       "      <td>10.0</td>\n",
       "    </tr>\n",
       "    <tr>\n",
       "      <th>31005</th>\n",
       "      <td>31006</td>\n",
       "      <td>7</td>\n",
       "      <td>2</td>\n",
       "      <td>2000</td>\n",
       "      <td>4</td>\n",
       "      <td>PB</td>\n",
       "      <td>M</td>\n",
       "      <td>25.0</td>\n",
       "      <td>21.0</td>\n",
       "    </tr>\n",
       "    <tr>\n",
       "      <th>2950</th>\n",
       "      <td>2951</td>\n",
       "      <td>5</td>\n",
       "      <td>17</td>\n",
       "      <td>1980</td>\n",
       "      <td>24</td>\n",
       "      <td>DM</td>\n",
       "      <td>F</td>\n",
       "      <td>34.0</td>\n",
       "      <td>27.0</td>\n",
       "    </tr>\n",
       "    <tr>\n",
       "      <th>155</th>\n",
       "      <td>156</td>\n",
       "      <td>8</td>\n",
       "      <td>21</td>\n",
       "      <td>1977</td>\n",
       "      <td>21</td>\n",
       "      <td>DM</td>\n",
       "      <td>M</td>\n",
       "      <td>35.0</td>\n",
       "      <td>NaN</td>\n",
       "    </tr>\n",
       "    <tr>\n",
       "      <th>25046</th>\n",
       "      <td>25047</td>\n",
       "      <td>2</td>\n",
       "      <td>9</td>\n",
       "      <td>1997</td>\n",
       "      <td>5</td>\n",
       "      <td>RM</td>\n",
       "      <td>F</td>\n",
       "      <td>17.0</td>\n",
       "      <td>11.0</td>\n",
       "    </tr>\n",
       "    <tr>\n",
       "      <th>30746</th>\n",
       "      <td>30747</td>\n",
       "      <td>6</td>\n",
       "      <td>3</td>\n",
       "      <td>2000</td>\n",
       "      <td>12</td>\n",
       "      <td>OT</td>\n",
       "      <td>F</td>\n",
       "      <td>20.0</td>\n",
       "      <td>18.0</td>\n",
       "    </tr>\n",
       "    <tr>\n",
       "      <th>35078</th>\n",
       "      <td>35079</td>\n",
       "      <td>11</td>\n",
       "      <td>10</td>\n",
       "      <td>2002</td>\n",
       "      <td>6</td>\n",
       "      <td>DO</td>\n",
       "      <td>F</td>\n",
       "      <td>35.0</td>\n",
       "      <td>61.0</td>\n",
       "    </tr>\n",
       "  </tbody>\n",
       "</table>\n",
       "</div>"
      ],
      "text/plain": [
       "       record_id  month  day  year  plot_id species_id sex  hindfoot_length  \\\n",
       "15577      15578      2    5  1989       11         PE   F             21.0   \n",
       "25355      25356      3   16  1997        4         PF   M             16.0   \n",
       "31005      31006      7    2  2000        4         PB   M             25.0   \n",
       "2950        2951      5   17  1980       24         DM   F             34.0   \n",
       "155          156      8   21  1977       21         DM   M             35.0   \n",
       "25046      25047      2    9  1997        5         RM   F             17.0   \n",
       "30746      30747      6    3  2000       12         OT   F             20.0   \n",
       "35078      35079     11   10  2002        6         DO   F             35.0   \n",
       "\n",
       "       weight  \n",
       "15577    21.0  \n",
       "25355    10.0  \n",
       "31005    21.0  \n",
       "2950     27.0  \n",
       "155       NaN  \n",
       "25046    11.0  \n",
       "30746    18.0  \n",
       "35078    61.0  "
      ]
     },
     "execution_count": 5,
     "metadata": {},
     "output_type": "execute_result"
    }
   ],
   "source": [
    "surveys_df.sample(8)"
   ]
  },
  {
   "cell_type": "code",
   "execution_count": 6,
   "metadata": {},
   "outputs": [
    {
     "data": {
      "text/plain": [
       "3624     1980\n",
       "14097    1988\n",
       "25151    1997\n",
       "12301    1987\n",
       "16110    1989\n",
       "Name: year, dtype: int64"
      ]
     },
     "execution_count": 6,
     "metadata": {},
     "output_type": "execute_result"
    }
   ],
   "source": [
    "surveys_df['year'].sample(5)"
   ]
  },
  {
   "cell_type": "code",
   "execution_count": 7,
   "metadata": {},
   "outputs": [
    {
     "data": {
      "text/plain": [
       "1985.0"
      ]
     },
     "execution_count": 7,
     "metadata": {},
     "output_type": "execute_result"
    }
   ],
   "source": [
    "surveys_df['year'].sample(5).mean()"
   ]
  },
  {
   "cell_type": "code",
   "execution_count": 8,
   "metadata": {},
   "outputs": [
    {
     "data": {
      "text/plain": [
       "array([1977, 1978, 1979, 1980, 1981, 1982, 1983, 1984, 1985, 1986, 1987,\n",
       "       1988, 1989, 1990, 1991, 1992, 1993, 1994, 1995, 1996, 1997, 1998,\n",
       "       1999, 2000, 2001, 2002])"
      ]
     },
     "execution_count": 8,
     "metadata": {},
     "output_type": "execute_result"
    }
   ],
   "source": [
    "surveys_df['year'].unique()"
   ]
  },
  {
   "cell_type": "code",
   "execution_count": 9,
   "metadata": {},
   "outputs": [
    {
     "data": {
      "text/plain": [
       "26"
      ]
     },
     "execution_count": 9,
     "metadata": {},
     "output_type": "execute_result"
    }
   ],
   "source": [
    "unique_years = surveys_df['year'].unique()\n",
    "len(unique_years)"
   ]
  },
  {
   "cell_type": "code",
   "execution_count": 10,
   "metadata": {},
   "outputs": [
    {
     "name": "stdout",
     "output_type": "stream",
     "text": [
      "1977\n",
      "1978\n",
      "1979\n",
      "1980\n",
      "1981\n",
      "1982\n",
      "1983\n",
      "1984\n",
      "1985\n",
      "1986\n",
      "1987\n",
      "1988\n",
      "1989\n",
      "1990\n",
      "1991\n",
      "1992\n",
      "1993\n",
      "1994\n",
      "1995\n",
      "1996\n",
      "1997\n",
      "1998\n",
      "1999\n",
      "2000\n",
      "2001\n",
      "2002\n"
     ]
    }
   ],
   "source": [
    "for year in unique_years:\n",
    "    print(year)"
   ]
  },
  {
   "cell_type": "code",
   "execution_count": 12,
   "metadata": {},
   "outputs": [
    {
     "name": "stdout",
     "output_type": "stream",
     "text": [
      "1977\n",
      "503\n",
      "1978\n",
      "1048\n",
      "1979\n",
      "719\n",
      "1980\n",
      "1415\n",
      "1981\n",
      "1472\n",
      "1982\n",
      "1978\n",
      "1983\n",
      "1673\n",
      "1984\n",
      "981\n",
      "1985\n",
      "1438\n",
      "1986\n",
      "942\n",
      "1987\n",
      "1671\n",
      "1988\n",
      "1469\n",
      "1989\n",
      "1569\n",
      "1990\n",
      "1311\n",
      "1991\n",
      "1347\n",
      "1992\n",
      "1038\n",
      "1993\n",
      "750\n",
      "1994\n",
      "668\n",
      "1995\n",
      "1222\n",
      "1996\n",
      "1706\n",
      "1997\n",
      "2493\n",
      "1998\n",
      "1610\n",
      "1999\n",
      "1135\n",
      "2000\n",
      "1552\n",
      "2001\n",
      "1610\n",
      "2002\n",
      "2229\n"
     ]
    }
   ],
   "source": [
    "for year in unique_years:\n",
    "    print(year)\n",
    "    print(len(surveys_df[surveys_df['year'] == year]))"
   ]
  },
  {
   "cell_type": "code",
   "execution_count": 15,
   "metadata": {},
   "outputs": [],
   "source": [
    "for year in unique_years:\n",
    "    survey_year = surveys_df[surveys_df['year'] == year]\n",
    "    filename = 'survey_subset_' + str(year) + '.csv'\n",
    "    survey_year.to_csv(filename)"
   ]
  },
  {
   "cell_type": "code",
   "execution_count": null,
   "metadata": {},
   "outputs": [],
   "source": []
  },
  {
   "cell_type": "code",
   "execution_count": null,
   "metadata": {},
   "outputs": [],
   "source": []
  },
  {
   "cell_type": "code",
   "execution_count": null,
   "metadata": {},
   "outputs": [],
   "source": []
  }
 ],
 "metadata": {
  "kernelspec": {
   "display_name": "Python 3",
   "language": "python",
   "name": "python3"
  },
  "language_info": {
   "codemirror_mode": {
    "name": "ipython",
    "version": 3
   },
   "file_extension": ".py",
   "mimetype": "text/x-python",
   "name": "python",
   "nbconvert_exporter": "python",
   "pygments_lexer": "ipython3",
   "version": "3.7.3"
  }
 },
 "nbformat": 4,
 "nbformat_minor": 2
}
